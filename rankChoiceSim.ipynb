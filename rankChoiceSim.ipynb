{
 "metadata": {
  "language_info": {
   "codemirror_mode": {
    "name": "ipython",
    "version": 3
   },
   "file_extension": ".py",
   "mimetype": "text/x-python",
   "name": "python",
   "nbconvert_exporter": "python",
   "pygments_lexer": "ipython3",
   "version": "3.7.6-final"
  },
  "orig_nbformat": 2,
  "kernelspec": {
   "name": "python3",
   "display_name": "Python 3"
  }
 },
 "nbformat": 4,
 "nbformat_minor": 2,
 "cells": [
  {
   "cell_type": "code",
   "execution_count": 1,
   "metadata": {},
   "outputs": [],
   "source": [
    "import pandas as pd\n",
    "import numpy as np\n",
    "np.random.seed(1234) \n",
    "import random"
   ]
  },
  {
   "cell_type": "code",
   "execution_count": 2,
   "metadata": {},
   "outputs": [],
   "source": [
    "# create candidates\n",
    "candidates = {\n",
    "    0: [\"Elizabeth II\", 0.36], \n",
    "    1: [\"Genghis Khan\", 0.35], \n",
    "    2: [\"Alexander the Great\", 0.13], \n",
    "    3: [\"Mahatma Gandhi\", 0.11], \n",
    "    4: [\"Augustus Caesar\", 0.05]\n",
    "}"
   ]
  },
  {
   "cell_type": "code",
   "execution_count": 23,
   "metadata": {},
   "outputs": [],
   "source": [
    "class RankChoice:\n",
    "\n",
    "    def __init__(self, pop_size, turnout_per, print_on=False):\n",
    "        self.pop_size = pop_size\n",
    "        self.per_of_turnout = turnout_per\n",
    "        self.print_on = print_on\n",
    "        self.votes_pop = pd.DataFrame(index=range(self.pop_size), columns=[\"Favorite\", \"Second Choice\", \"Eh\", \"Only Cause I Have To\", \"No Chance\"]).fillna(-1)\n",
    "        self.votes_cast = pd.DataFrame.empty\n",
    "        self.vote_count = {}\n",
    "        self.initial_results = {}\n",
    "        self.eliminated_candidates = []\n",
    "\n",
    "    def run(self):\n",
    "        self.getVotePopulation()\n",
    "        self.dropTurnout()\n",
    "        self.getVoteCount()\n",
    "        self.rankChoice()\n",
    "\n",
    "    def getProbs(self):\n",
    "        \"\"\"Return weighted probabilities of each candidate.\"\"\"\n",
    "        return [candidates[0][1], candidates[1][1], candidates[2][1], candidates[3][1], candidates[4][1]]\n",
    "\n",
    "    def getVotePopulation(self):\n",
    "        \"\"\"create vote population.\"\"\"\n",
    "        # FOR DEMONSTRATION PURPOSES\n",
    "        # for i in range(5):\n",
    "        #     newl = np.random.choice([0, 1, 2, 3, 4], size=5, replace=False, p=[0.96, 0.01, 0.01, 0.01, 0.01])\n",
    "            # print(newl)\n",
    "            # [0 4 2 1 3]\n",
    "            # [0 2 4 1 3]\n",
    "            # [0 2 4 3 1]\n",
    "            # [0 3 2 4 1]\n",
    "            # [0 3 1 4 2]\n",
    "        vote_list = [0, 1, 2, 3, 4]\n",
    "        ps = self.getProbs()\n",
    "        for i in range(self.pop_size):\n",
    "            newl = np.random.choice(vote_list, size=len(vote_list), replace=False, p=ps)\n",
    "            self.votes_pop.at[i, \"Favorite\"] = newl[0]\n",
    "            self.votes_pop.at[i, \"Second Choice\"] = newl[1]\n",
    "            self.votes_pop.at[i, \"Eh\"] = newl[2]\n",
    "            self.votes_pop.at[i, \"Only Cause I Have To\"] = newl[3]\n",
    "            self.votes_pop.at[i, \"No Chance\"] = newl[4]\n",
    "\n",
    "    def getVoteCount(self):\n",
    "        \"\"\"Count votes.\"\"\"\n",
    "        for i in range(len(candidates)):\n",
    "            indices = self.votes_cast.loc[ (self.votes_cast[\"Favorite\"].iloc[:] == i) | (self.votes_cast[\"Favorite\"].iloc[:] == float(i))].index.values\n",
    "            self.vote_count[i] = len(indices)\n",
    "        self.vote_count = dict(sorted(self.vote_count.items(), key=lambda x: x[1], reverse=True))\n",
    "        if self.print_on:\n",
    "            self.printResults()\n",
    "\n",
    "    def printResults(self):\n",
    "        \"\"\"Print out the results of the vote count.\"\"\"\n",
    "        print({candidates[key][0]:value for key,value in self.vote_count.items()})\n",
    "\n",
    "    def dropTurnout(self):\n",
    "        \"\"\"Remove percentage of votes as non-turnout voters.\"\"\"\n",
    "        no_vote = np.random.choice(range(self.votes_pop.shape[0]), size=int(self.votes_pop.shape[0]*self.per_of_turnout), replace=False)\n",
    "        self.votes_cast = self.votes_pop.drop(no_vote)\n",
    "\n",
    "    def rankChoice(self):\n",
    "        \"\"\"Return results of the election based on rank choice rules.\"\"\"\n",
    "        total_votes = sum(self.vote_count.values())\n",
    "        half_plus_one = int(total_votes/2) + 1\n",
    "        top_total_votes = list(self.vote_count.values())[0]\n",
    "        if top_total_votes > half_plus_one:\n",
    "            # if person with top votes gets a majority, they win\n",
    "            print(candidates[list(self.vote_count.keys())[0]][0] + \" Wins! : \" + str(top_total_votes/total_votes))\n",
    "            return list(self.vote_count.keys())[0]\n",
    "        else:\n",
    "            self.runoff()\n",
    "\n",
    "    def runoff(self):\n",
    "        \"\"\"Candidate with fewest first-preference votes is eliminated.\"\"\"\n",
    "        few_cand = self.getFewestCandidate()\n",
    "        self.updateVotesCast(few_cand)\n",
    "        self.getVoteCount()\n",
    "        self.rankChoice()\n",
    "\n",
    "    def getFewestCandidate(self):\n",
    "        \"\"\"Get candidate with fewest first-preference votes.\"\"\"\n",
    "        fewest_cand = self.votes_cast[\"Favorite\"].value_counts().index.values[-1]\n",
    "        self.eliminated_candidates.append(int(fewest_cand))\n",
    "        return fewest_cand\n",
    "\n",
    "    def updateVotesCast(self, elim_candidate):\n",
    "        \"\"\"Update votes_cast df based on eliminated candidate.\"\"\"\n",
    "        for i in range(self.votes_cast.shape[0]):\n",
    "            self.checkForElimVotes(i, elim_candidate)\n",
    "\n",
    "    def checkForElimVotes(self, i, elim_candidate):\n",
    "        \"\"\"Checks votes for individual row to see if next vote is for an eliminated candidate.\"\"\"\n",
    "        v1 = self.votes_cast[\"Favorite\"].iloc[i]\n",
    "        if int(v1) == int(elim_candidate) or int(v1) in self.eliminated_candidates:\n",
    "            self.shiftVotes(i)\n",
    "            self.checkForElimVotes(i, elim_candidate)\n",
    "\n",
    "    def shiftVotes(self, i):\n",
    "        \"\"\"Shift given row of votes by one to the left.\"\"\"\n",
    "        self.votes_cast.iloc[i, :] = pd.Series(self.votes_cast.iloc[i,:]).shift(-1)\n",
    "\n"
   ]
  },
  {
   "source": [
    "rc = RankChoice(pop_size=100, print_on=True, turnout_per=0.5)\n",
    "rc.run()"
   ],
   "cell_type": "code",
   "metadata": {
    "tags": []
   },
   "execution_count": 24,
   "outputs": [
    {
     "output_type": "stream",
     "name": "stdout",
     "text": [
      "{'Elizabeth II': 20, 'Genghis Khan': 16, 'Alexander the Great': 7, 'Mahatma Gandhi': 6, 'Augustus Caesar': 1}\n{'Elizabeth II': 21, 'Genghis Khan': 16, 'Alexander the Great': 7, 'Mahatma Gandhi': 6, 'Augustus Caesar': 0}\n{'Elizabeth II': 25, 'Genghis Khan': 18, 'Alexander the Great': 7, 'Mahatma Gandhi': 0, 'Augustus Caesar': 0}\n{'Elizabeth II': 29, 'Genghis Khan': 21, 'Alexander the Great': 0, 'Mahatma Gandhi': 0, 'Augustus Caesar': 0}\nElizabeth II Wins! : 0.58\n"
     ]
    }
   ]
  },
  {
   "cell_type": "code",
   "execution_count": null,
   "metadata": {},
   "outputs": [],
   "source": []
  }
 ]
}