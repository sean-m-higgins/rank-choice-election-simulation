{
 "metadata": {
  "language_info": {
   "codemirror_mode": {
    "name": "ipython",
    "version": 3
   },
   "file_extension": ".py",
   "mimetype": "text/x-python",
   "name": "python",
   "nbconvert_exporter": "python",
   "pygments_lexer": "ipython3",
   "version": "3.7.6-final"
  },
  "orig_nbformat": 2,
  "kernelspec": {
   "name": "python3",
   "display_name": "Python 3"
  }
 },
 "nbformat": 4,
 "nbformat_minor": 2,
 "cells": [
  {
   "cell_type": "code",
   "execution_count": 1,
   "metadata": {},
   "outputs": [],
   "source": [
    "import pandas as pd\n",
    "import numpy as np\n",
    "import random"
   ]
  },
  {
   "cell_type": "code",
   "execution_count": 2,
   "metadata": {},
   "outputs": [],
   "source": [
    "# create candidates\n",
    "candidates = {0: [\"Elizabeth II\", 0.33], 1: [\"Vladimir Putin\", 0.22], 2: [\"Xi Jinping\", 0.17], 3: [\"Muhammad bin Salman\", 0.17], 4: [\"Kim Jong Un\", 0.11]}\n",
    "candidates\n",
    "\n",
    "def getProbs():\n",
    "    return [candidates[0][1], candidates[1][1], candidates[2][1], candidates[3][1], candidates[4][1]]"
   ]
  },
  {
   "cell_type": "code",
   "execution_count": 8,
   "metadata": {},
   "outputs": [
    {
     "output_type": "execute_result",
     "data": {
      "text/plain": [
       "   Favorite  Second Choice  Eh  Only Cause I Have To  No Chance\n",
       "0         1              0   3                     4          2"
      ],
      "text/html": "<div>\n<style scoped>\n    .dataframe tbody tr th:only-of-type {\n        vertical-align: middle;\n    }\n\n    .dataframe tbody tr th {\n        vertical-align: top;\n    }\n\n    .dataframe thead th {\n        text-align: right;\n    }\n</style>\n<table border=\"1\" class=\"dataframe\">\n  <thead>\n    <tr style=\"text-align: right;\">\n      <th></th>\n      <th>Favorite</th>\n      <th>Second Choice</th>\n      <th>Eh</th>\n      <th>Only Cause I Have To</th>\n      <th>No Chance</th>\n    </tr>\n  </thead>\n  <tbody>\n    <tr>\n      <th>0</th>\n      <td>1</td>\n      <td>0</td>\n      <td>3</td>\n      <td>4</td>\n      <td>2</td>\n    </tr>\n  </tbody>\n</table>\n</div>"
     },
     "metadata": {},
     "execution_count": 8
    }
   ],
   "source": [
    "def getVotePopulation(n):\n",
    "    # create vote population\n",
    "    votes = pd.DataFrame(index=range(n), columns=[\"Favorite\", \"Second Choice\", \"Eh\", \"Only Cause I Have To\", \"No Chance\"]).fillna(-1)\n",
    "\n",
    "    # FOR DEMONSTRATION PURPOSES\n",
    "    # for i in range(5):\n",
    "    #     newl = np.random.choice([0, 1, 2, 3, 4], size=5, replace=False, p=[0.96, 0.01, 0.01, 0.01, 0.01])\n",
    "        # print(newl)\n",
    "        # [0 4 2 1 3]\n",
    "        # [0 2 4 1 3]\n",
    "        # [0 2 4 3 1]\n",
    "        # [0 3 2 4 1]\n",
    "        # [0 3 1 4 2]\n",
    "\n",
    "    vote_list = [0, 1, 2, 3, 4]\n",
    "    ps = getProbs()\n",
    "    for i in range(n):\n",
    "        newl = np.random.choice(vote_list, size=len(vote_list), replace=False, p=ps)\n",
    "        votes.at[i, \"Favorite\"] = newl[0]\n",
    "        votes.at[i, \"Second Choice\"] = newl[1]\n",
    "        votes.at[i, \"Eh\"] = newl[2]\n",
    "        votes.at[i, \"Only Cause I Have To\"] = newl[3]\n",
    "        votes.at[i, \"No Chance\"] = newl[4]\n",
    "    return votes\n",
    "\n"
   ]
  },
  {
   "cell_type": "code",
   "execution_count": 18,
   "metadata": {},
   "outputs": [],
   "source": [
    "def getVoteCount(votes_df):\n",
    "    # count votes\n",
    "    vote_count = {}\n",
    "    for i in range(5):\n",
    "        indices = votes_df.loc[ votes_df[\"Favorite\"].iloc[:] == i ].index.values\n",
    "        vote_count[i] = len(indices)\n",
    "    return vote_count\n",
    "\n"
   ]
  },
  {
   "cell_type": "code",
   "execution_count": 26,
   "metadata": {},
   "outputs": [
    {
     "output_type": "execute_result",
     "data": {
      "text/plain": [
       "{0: 5, 1: 1, 2: 1, 3: 2, 4: 1}"
      ]
     },
     "metadata": {},
     "execution_count": 26
    }
   ],
   "source": [
    "votes = getVotePopulation(10000000)\n",
    "getVoteCount(votes)"
   ]
  },
  {
   "cell_type": "code",
   "execution_count": null,
   "metadata": {},
   "outputs": [],
   "source": []
  }
 ]
}